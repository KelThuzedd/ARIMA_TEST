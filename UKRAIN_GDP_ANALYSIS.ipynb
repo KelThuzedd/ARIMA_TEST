{
 "cells": [
  {
   "cell_type": "code",
   "execution_count": 1,
   "metadata": {},
   "outputs": [],
   "source": [
    "# Дла работы с табличными данными\n",
    "import pandas as pd\n",
    "# Для работы с массивами и математическими операциями\n",
    "import numpy as np\n",
    "\n",
    "# Для визуализации\n",
    "import matplotlib\n",
    "import matplotlib.pyplot as plt\n",
    "# Эта строчка задает определенный стиль картинок\n",
    "matplotlib.style.use('ggplot')\n",
    "# matplotlib Inline позволяет выводить график в каждой отдельной ячейки для всего ноутбука\n",
    "%matplotlib inline\n",
    "\n",
    "# Для построения PACF, ACF и линейной модели\n",
    "import statsmodels.api as sm\n",
    "# import statsmodels.formula.api as smf\n",
    "\n",
    "# Для использования exp\n",
    "from math import log\n",
    "\n",
    "# Отключение предупреждений\n",
    "pd.options.mode.chained_assignment = None  # default='warn'"
   ]
  },
  {
   "cell_type": "code",
   "execution_count": 2,
   "metadata": {},
   "outputs": [
    {
     "data": {
      "text/html": [
       "<div>\n",
       "<style scoped>\n",
       "    .dataframe tbody tr th:only-of-type {\n",
       "        vertical-align: middle;\n",
       "    }\n",
       "\n",
       "    .dataframe tbody tr th {\n",
       "        vertical-align: top;\n",
       "    }\n",
       "\n",
       "    .dataframe thead th {\n",
       "        text-align: right;\n",
       "    }\n",
       "</style>\n",
       "<table border=\"1\" class=\"dataframe\">\n",
       "  <thead>\n",
       "    <tr style=\"text-align: right;\">\n",
       "      <th></th>\n",
       "      <th>MEASURE</th>\n",
       "      <th>USA</th>\n",
       "    </tr>\n",
       "  </thead>\n",
       "  <tbody>\n",
       "    <tr>\n",
       "      <th>0</th>\n",
       "      <td>1970</td>\n",
       "      <td>47235.697</td>\n",
       "    </tr>\n",
       "    <tr>\n",
       "      <th>1</th>\n",
       "      <td>1971</td>\n",
       "      <td>47637.239</td>\n",
       "    </tr>\n",
       "    <tr>\n",
       "      <th>2</th>\n",
       "      <td>1972</td>\n",
       "      <td>48026.627</td>\n",
       "    </tr>\n",
       "    <tr>\n",
       "      <th>3</th>\n",
       "      <td>1973</td>\n",
       "      <td>48367.002</td>\n",
       "    </tr>\n",
       "    <tr>\n",
       "      <th>4</th>\n",
       "      <td>1974</td>\n",
       "      <td>48676.939</td>\n",
       "    </tr>\n",
       "  </tbody>\n",
       "</table>\n",
       "</div>"
      ],
      "text/plain": [
       "   MEASURE        USA\n",
       "0     1970  47235.697\n",
       "1     1971  47637.239\n",
       "2     1972  48026.627\n",
       "3     1973  48367.002\n",
       "4     1974  48676.939"
      ]
     },
     "execution_count": 2,
     "metadata": {},
     "output_type": "execute_result"
    }
   ],
   "source": [
    "# Загружаем данные\n",
    "df_gdpUSA = pd.read_excel('C:\\\\Games\\\\DS\\\\Ukrain_GDP.xlsx')\n",
    "df_gdpUSA.head() # Метод head выводит первые 5 строк таблицы, убеждаемся, что таблица прочиталась корректно"
   ]
  },
  {
   "cell_type": "code",
   "execution_count": null,
   "outputs": [],
   "source": [
    "Считаем логариым от ряда\n",
    "df_gdpUSA['USA_log'] = df_gdpUSA['USA'].apply(lambda x: log(x))\n",
    "# функция apply применяет функцию в скобках к каждому элементу столбца\n",
    "# lambda x: log(x) - вид записи анонимной функции в python\n",
    "df_gdpUSA.head()"
   ],
   "metadata": {
    "collapsed": false
   }
  },
  {
   "cell_type": "code",
   "execution_count": 3,
   "metadata": {},
   "outputs": [
    {
     "data": {
      "text/html": [
       "<div>\n",
       "<style scoped>\n",
       "    .dataframe tbody tr th:only-of-type {\n",
       "        vertical-align: middle;\n",
       "    }\n",
       "\n",
       "    .dataframe tbody tr th {\n",
       "        vertical-align: top;\n",
       "    }\n",
       "\n",
       "    .dataframe thead th {\n",
       "        text-align: right;\n",
       "    }\n",
       "</style>\n",
       "<table border=\"1\" class=\"dataframe\">\n",
       "  <thead>\n",
       "    <tr style=\"text-align: right;\">\n",
       "      <th></th>\n",
       "      <th>MEASURE</th>\n",
       "      <th>USA</th>\n",
       "      <th>USA_log</th>\n",
       "    </tr>\n",
       "  </thead>\n",
       "  <tbody>\n",
       "    <tr>\n",
       "      <th>0</th>\n",
       "      <td>1970</td>\n",
       "      <td>47235.697</td>\n",
       "      <td>10.762905</td>\n",
       "    </tr>\n",
       "    <tr>\n",
       "      <th>1</th>\n",
       "      <td>1971</td>\n",
       "      <td>47637.239</td>\n",
       "      <td>10.771370</td>\n",
       "    </tr>\n",
       "    <tr>\n",
       "      <th>2</th>\n",
       "      <td>1972</td>\n",
       "      <td>48026.627</td>\n",
       "      <td>10.779511</td>\n",
       "    </tr>\n",
       "    <tr>\n",
       "      <th>3</th>\n",
       "      <td>1973</td>\n",
       "      <td>48367.002</td>\n",
       "      <td>10.786573</td>\n",
       "    </tr>\n",
       "    <tr>\n",
       "      <th>4</th>\n",
       "      <td>1974</td>\n",
       "      <td>48676.939</td>\n",
       "      <td>10.792961</td>\n",
       "    </tr>\n",
       "  </tbody>\n",
       "</table>\n",
       "</div>"
      ],
      "text/plain": [
       "   MEASURE        USA    USA_log\n",
       "0     1970  47235.697  10.762905\n",
       "1     1971  47637.239  10.771370\n",
       "2     1972  48026.627  10.779511\n",
       "3     1973  48367.002  10.786573\n",
       "4     1974  48676.939  10.792961"
      ]
     },
     "execution_count": 3,
     "metadata": {},
     "output_type": "execute_result"
    }
   ],
   "source": [
    "df_gdpUSA['USA_log'] = df_gdpUSA['USA'].apply(lambda x: log(x))\n",
    "# функция apply применяет функцию в скобках к каждому элементу столбца\n",
    "# lambda x: log(x) - вид записи анонимной функции в python\n",
    "df_gdpUSA.head()"
   ]
  },
  {
   "cell_type": "code",
   "execution_count": 4,
   "metadata": {},
   "outputs": [
    {
     "data": {
      "text/plain": [
       "<AxesSubplot:>"
      ]
     },
     "execution_count": 4,
     "metadata": {},
     "output_type": "execute_result"
    },
    {
     "data": {
      "image/png": "[encoded data removed]",
      "text/plain": [
       "<Figure size 432x288 with 1 Axes>"
      ]
     },
     "metadata": {
      "needs_background": "light"
     },
     "output_type": "display_data"
    }
   ],
   "source": [
    "df_gdpUSA['USA'].plot() # По умолчанию функция plot строит линейный график"
   ]
  },
  {
   "cell_type": "code",
   "execution_count": 5,
   "metadata": {},
   "outputs": [
    {
     "data": {
      "text/plain": [
       "<AxesSubplot:>"
      ]
     },
     "execution_count": 5,
     "metadata": {},
     "output_type": "execute_result"
    },
    {
     "data": {
      "image/png": "[encoded data removed]",
      "text/plain": [
       "<Figure size 432x288 with 1 Axes>"
      ]
     },
     "metadata": {
      "needs_background": "light"
     },
     "output_type": "display_data"
    }
   ],
   "source": [
    "df_gdpUSA['USA_log'].plot() # По умолчанию функция plot строит линейный график"
   ]
  },
  {
   "cell_type": "code",
   "execution_count": 6,
   "metadata": {},
   "outputs": [],
   "source": [
    "# Формируем лаги\n",
    "for i in range(1, 7): # Для диапазона значений [1,6]\n",
    "    df_gdpUSA['USA_log_l' + str(i)] = [0]*i + df_gdpUSA['USA_log'][:-i].tolist()"
   ]
  },
  {
   "cell_type": "code",
   "execution_count": 7,
   "metadata": {},
   "outputs": [
    {
     "data": {
      "text/html": [
       "<div>\n",
       "<style scoped>\n",
       "    .dataframe tbody tr th:only-of-type {\n",
       "        vertical-align: middle;\n",
       "    }\n",
       "\n",
       "    .dataframe tbody tr th {\n",
       "        vertical-align: top;\n",
       "    }\n",
       "\n",
       "    .dataframe thead th {\n",
       "        text-align: right;\n",
       "    }\n",
       "</style>\n",
       "<table border=\"1\" class=\"dataframe\">\n",
       "  <thead>\n",
       "    <tr style=\"text-align: right;\">\n",
       "      <th></th>\n",
       "      <th>MEASURE</th>\n",
       "      <th>USA</th>\n",
       "      <th>USA_log</th>\n",
       "      <th>USA_log_l1</th>\n",
       "      <th>USA_log_l2</th>\n",
       "      <th>USA_log_l3</th>\n",
       "      <th>USA_log_l4</th>\n",
       "      <th>USA_log_l5</th>\n",
       "      <th>USA_log_l6</th>\n",
       "    </tr>\n",
       "  </thead>\n",
       "  <tbody>\n",
       "    <tr>\n",
       "      <th>0</th>\n",
       "      <td>1970</td>\n",
       "      <td>47235.697</td>\n",
       "      <td>10.762905</td>\n",
       "      <td>0.000000</td>\n",
       "      <td>0.000000</td>\n",
       "      <td>0.000000</td>\n",
       "      <td>0.000000</td>\n",
       "      <td>0.0</td>\n",
       "      <td>0.0</td>\n",
       "    </tr>\n",
       "    <tr>\n",
       "      <th>1</th>\n",
       "      <td>1971</td>\n",
       "      <td>47637.239</td>\n",
       "      <td>10.771370</td>\n",
       "      <td>10.762905</td>\n",
       "      <td>0.000000</td>\n",
       "      <td>0.000000</td>\n",
       "      <td>0.000000</td>\n",
       "      <td>0.0</td>\n",
       "      <td>0.0</td>\n",
       "    </tr>\n",
       "    <tr>\n",
       "      <th>2</th>\n",
       "      <td>1972</td>\n",
       "      <td>48026.627</td>\n",
       "      <td>10.779511</td>\n",
       "      <td>10.771370</td>\n",
       "      <td>10.762905</td>\n",
       "      <td>0.000000</td>\n",
       "      <td>0.000000</td>\n",
       "      <td>0.0</td>\n",
       "      <td>0.0</td>\n",
       "    </tr>\n",
       "    <tr>\n",
       "      <th>3</th>\n",
       "      <td>1973</td>\n",
       "      <td>48367.002</td>\n",
       "      <td>10.786573</td>\n",
       "      <td>10.779511</td>\n",
       "      <td>10.771370</td>\n",
       "      <td>10.762905</td>\n",
       "      <td>0.000000</td>\n",
       "      <td>0.0</td>\n",
       "      <td>0.0</td>\n",
       "    </tr>\n",
       "    <tr>\n",
       "      <th>4</th>\n",
       "      <td>1974</td>\n",
       "      <td>48676.939</td>\n",
       "      <td>10.792961</td>\n",
       "      <td>10.786573</td>\n",
       "      <td>10.779511</td>\n",
       "      <td>10.771370</td>\n",
       "      <td>10.762905</td>\n",
       "      <td>0.0</td>\n",
       "      <td>0.0</td>\n",
       "    </tr>\n",
       "  </tbody>\n",
       "</table>\n",
       "</div>"
      ],
      "text/plain": [
       "   MEASURE        USA    USA_log  USA_log_l1  USA_log_l2  USA_log_l3  \\\n",
       "0     1970  47235.697  10.762905    0.000000    0.000000    0.000000   \n",
       "1     1971  47637.239  10.771370   10.762905    0.000000    0.000000   \n",
       "2     1972  48026.627  10.779511   10.771370   10.762905    0.000000   \n",
       "3     1973  48367.002  10.786573   10.779511   10.771370   10.762905   \n",
       "4     1974  48676.939  10.792961   10.786573   10.779511   10.771370   \n",
       "\n",
       "   USA_log_l4  USA_log_l5  USA_log_l6  \n",
       "0    0.000000         0.0         0.0  \n",
       "1    0.000000         0.0         0.0  \n",
       "2    0.000000         0.0         0.0  \n",
       "3    0.000000         0.0         0.0  \n",
       "4   10.762905         0.0         0.0  "
      ]
     },
     "execution_count": 7,
     "metadata": {},
     "output_type": "execute_result"
    }
   ],
   "source": [
    "df_gdpUSA.head()"
   ]
  },
  {
   "cell_type": "code",
   "execution_count": 8,
   "metadata": {},
   "outputs": [
    {
     "data": {
      "image/png": "[encoded data removed]",
      "text/plain": [
       "<Figure size 432x288 with 1 Axes>"
      ]
     },
     "metadata": {
      "needs_background": "light"
     },
     "output_type": "display_data"
    }
   ],
   "source": [
    "sm.graphics.tsa.plot_pacf(df_gdpUSA['USA_log'], method = 'ywm', zero = False, alpha = 0.05, lags = 20) # Строим PACF\n",
    "# plt.ylim((-0.1 ,0.3)) # Ограничиваем ось Y\n",
    "plt.show() # Выводим график\n",
    "\n",
    "# Параметры функции plot_pacf:\n",
    "# zero = False - убрали нулевой лаг с графика\n",
    "# alpha = 0.05 - задали уровень значимости, можно этот атрибут не писать, тогда по умолчанию будет значение 0.05\n",
    "# lags = 30 - число лагов\n",
    "# method = 'ywm' - метод Юла-Уокера"
   ]
  },
  {
   "cell_type": "code",
   "execution_count": 9,
   "metadata": {},
   "outputs": [
    {
     "name": "stdout",
     "output_type": "stream",
     "text": [
      "    d1_USA_log  d1_USA_log_l1\n",
      "0    10.762905       0.000000\n",
      "1    10.771370      10.762905\n",
      "2    10.779511      10.771370\n",
      "3    10.786573      10.779511\n",
      "4    10.792961      10.786573\n",
      "5    10.799033      10.792961\n",
      "6    10.804330      10.799033\n",
      "7    10.808792      10.804330\n",
      "8    10.812612      10.808792\n",
      "9    10.816473      10.812612\n",
      "10   10.820711      10.816473\n",
      "11   10.824481      10.820711\n",
      "12   10.827696      10.824481\n",
      "13   10.831174      10.827696\n",
      "14   10.835049      10.831174\n",
      "15   10.838487      10.835049\n",
      "16   10.841443      10.838487\n",
      "17   10.843848      10.841443\n",
      "18   10.847840      10.843848\n",
      "19   10.849366      10.847840\n",
      "20   10.851709      10.849366\n",
      "21   10.853800      10.851709\n",
      "22   10.856479      10.853800\n",
      "23   10.856828      10.856479\n",
      "24   10.852010      10.856828\n",
      "25   10.844427      10.852010\n",
      "26   10.835915      10.844427\n",
      "27   10.827179      10.835915\n",
      "28   10.818602      10.827179\n",
      "29   10.809550      10.818602\n",
      "30   10.799858      10.809550\n",
      "31   10.789738      10.799858\n",
      "32   10.780498      10.789738\n",
      "33   10.772528      10.780498\n",
      "34   10.765163      10.772528\n",
      "35   10.757959      10.765163\n",
      "36   10.751184      10.757959\n",
      "37   10.745202      10.751184\n",
      "38   10.739774      10.745202\n",
      "39   10.735326      10.739774\n",
      "40   10.731344      10.735326\n",
      "41   10.727740      10.731344\n",
      "42   10.725282      10.727740\n",
      "43   10.723017      10.725282\n",
      "44   10.713167      10.723017\n",
      "45   10.701643      10.713167\n",
      "46   10.696655      10.701643\n",
      "47   10.692608      10.696655\n",
      "48   10.690664      10.692608\n",
      "49   10.690840      10.690664\n",
      "50   10.689753      10.690840\n",
      "51   10.686147      10.689753\n",
      "52   10.681163      10.686147\n"
     ]
    }
   ],
   "source": [
    "df_d1_gdpUSA = df_gdpUSA[['USA_log','USA_log_l1']]\n",
    "df_d1_gdpUSA=df_d1_gdpUSA.rename(columns = {'USA_log':'d1_USA_log', 'USA_log_l1':'d1_USA_log_l1'} )\n",
    "print(df_d1_gdpUSA)"
   ]
  },
  {
   "cell_type": "code",
   "execution_count": 10,
   "metadata": {},
   "outputs": [
    {
     "data": {
      "text/html": [
       "<div>\n",
       "<style scoped>\n",
       "    .dataframe tbody tr th:only-of-type {\n",
       "        vertical-align: middle;\n",
       "    }\n",
       "\n",
       "    .dataframe tbody tr th {\n",
       "        vertical-align: top;\n",
       "    }\n",
       "\n",
       "    .dataframe thead th {\n",
       "        text-align: right;\n",
       "    }\n",
       "</style>\n",
       "<table border=\"1\" class=\"dataframe\">\n",
       "  <thead>\n",
       "    <tr style=\"text-align: right;\">\n",
       "      <th></th>\n",
       "      <th>d1_USA_log</th>\n",
       "      <th>d1_USA_log_l1</th>\n",
       "    </tr>\n",
       "  </thead>\n",
       "  <tbody>\n",
       "    <tr>\n",
       "      <th>0</th>\n",
       "      <td>10.771370</td>\n",
       "      <td>10.762905</td>\n",
       "    </tr>\n",
       "    <tr>\n",
       "      <th>1</th>\n",
       "      <td>10.779511</td>\n",
       "      <td>10.771370</td>\n",
       "    </tr>\n",
       "    <tr>\n",
       "      <th>2</th>\n",
       "      <td>10.786573</td>\n",
       "      <td>10.779511</td>\n",
       "    </tr>\n",
       "    <tr>\n",
       "      <th>3</th>\n",
       "      <td>10.792961</td>\n",
       "      <td>10.786573</td>\n",
       "    </tr>\n",
       "    <tr>\n",
       "      <th>4</th>\n",
       "      <td>10.799033</td>\n",
       "      <td>10.792961</td>\n",
       "    </tr>\n",
       "  </tbody>\n",
       "</table>\n",
       "</div>"
      ],
      "text/plain": [
       "   d1_USA_log  d1_USA_log_l1\n",
       "0   10.771370      10.762905\n",
       "1   10.779511      10.771370\n",
       "2   10.786573      10.779511\n",
       "3   10.792961      10.786573\n",
       "4   10.799033      10.792961"
      ]
     },
     "execution_count": 10,
     "metadata": {},
     "output_type": "execute_result"
    }
   ],
   "source": [
    "# Выберем только 1 лаг:\n",
    "df_d1_gdpUSA_1 = df_d1_gdpUSA[['d1_USA_log', 'd1_USA_log_l1']][1:].reset_index(drop = True)\n",
    "df_d1_gdpUSA_1.head()"
   ]
  },
  {
   "cell_type": "code",
   "execution_count": 11,
   "metadata": {},
   "outputs": [],
   "source": [
    "# Выделяем X (фаторы) и y (результирующую переменную)\n",
    "X_1 = df_d1_gdpUSA_1.drop('d1_USA_log', axis = 1) # Должен быть датафреймом\n",
    "y_1 = df_d1_gdpUSA_1['d1_USA_log'] # Должен быть серией"
   ]
  },
  {
   "cell_type": "code",
   "execution_count": 12,
   "metadata": {},
   "outputs": [],
   "source": [
    "# Добавляем константу\n",
    "X_1_c = sm.tools.tools.add_constant(X_1, prepend = True, has_constant = 'skip')"
   ]
  },
  {
   "cell_type": "code",
   "execution_count": 13,
   "metadata": {},
   "outputs": [
    {
     "name": "stdout",
     "output_type": "stream",
     "text": [
      "                            OLS Regression Results                            \n",
      "==============================================================================\n",
      "Dep. Variable:             d1_USA_log   R-squared:                       0.990\n",
      "Model:                            OLS   Adj. R-squared:                  0.990\n",
      "Method:                 Least Squares   F-statistic:                     5168.\n",
      "Date:                Tue, 31 Jan 2023   Prob (F-statistic):           3.88e-52\n",
      "Time:                        23:36:47   Log-Likelihood:                 197.17\n",
      "No. Observations:                  52   AIC:                            -390.3\n",
      "Df Residuals:                      50   BIC:                            -386.4\n",
      "Df Model:                           1                                         \n",
      "Covariance Type:            nonrobust                                         \n",
      "=================================================================================\n",
      "                    coef    std err          t      P>|t|      [0.025      0.975]\n",
      "---------------------------------------------------------------------------------\n",
      "const            -0.3026      0.154     -1.962      0.055      -0.612       0.007\n",
      "d1_USA_log_l1     1.0279      0.014     71.890      0.000       0.999       1.057\n",
      "==============================================================================\n",
      "Omnibus:                        5.378   Durbin-Watson:                   0.125\n",
      "Prob(Omnibus):                  0.068   Jarque-Bera (JB):                2.273\n",
      "Skew:                          -0.152   Prob(JB):                        0.321\n",
      "Kurtosis:                       2.022   Cond. No.                     2.17e+03\n",
      "==============================================================================\n",
      "\n",
      "Notes:\n",
      "[1] Standard Errors assume that the covariance matrix of the errors is correctly specified.\n",
      "[2] The condition number is large, 2.17e+03. This might indicate that there are\n",
      "strong multicollinearity or other numerical problems.\n"
     ]
    }
   ],
   "source": [
    "model_linear_1 = sm.OLS(y_1, X_1_c) # Строим модель\n",
    "result_linear_1 = model_linear_1.fit() # Обучаем на данных\n",
    "print(result_linear_1.summary()) # Выводим отчет"
   ]
  },
  {
   "cell_type": "code",
   "execution_count": 14,
   "metadata": {},
   "outputs": [
    {
     "data": {
      "text/plain": [
       "0.005566035724155717"
      ]
     },
     "execution_count": 14,
     "metadata": {},
     "output_type": "execute_result"
    }
   ],
   "source": [
    "# Residual standard error\n",
    "np.sqrt(result_linear_1.scale)"
   ]
  },
  {
   "cell_type": "code",
   "execution_count": 15,
   "metadata": {},
   "outputs": [
    {
     "data": {
      "image/png": "[encoded data removed]",
      "text/plain": [
       "<Figure size 432x288 with 1 Axes>"
      ]
     },
     "metadata": {
      "needs_background": "light"
     },
     "output_type": "display_data"
    }
   ],
   "source": [
    "sm.graphics.tsa.plot_acf(result_linear_1.resid, zero = False, alpha = 0.05, lags = 30) # Строим ACF\n",
    "plt.ylim((-0.7 ,0.7)) # Ограничиваем ось Y\n",
    "plt.show() # Выводим график\n",
    "\n",
    "# Метод resid хранит остатки модели"
   ]
  },
  {
   "cell_type": "code",
   "execution_count": 16,
   "metadata": {},
   "outputs": [],
   "source": [
    "lag = int(log(len(result_linear_1.resid))) # Число степеней свободы - логарифм по времени\n",
    "p = 1"
   ]
  },
  {
   "cell_type": "code",
   "execution_count": 17,
   "metadata": {},
   "outputs": [
    {
     "data": {
      "text/html": [
       "<div>\n",
       "<style scoped>\n",
       "    .dataframe tbody tr th:only-of-type {\n",
       "        vertical-align: middle;\n",
       "    }\n",
       "\n",
       "    .dataframe tbody tr th {\n",
       "        vertical-align: top;\n",
       "    }\n",
       "\n",
       "    .dataframe thead th {\n",
       "        text-align: right;\n",
       "    }\n",
       "</style>\n",
       "<table border=\"1\" class=\"dataframe\">\n",
       "  <thead>\n",
       "    <tr style=\"text-align: right;\">\n",
       "      <th></th>\n",
       "      <th>lb_stat</th>\n",
       "      <th>lb_pvalue</th>\n",
       "    </tr>\n",
       "  </thead>\n",
       "  <tbody>\n",
       "    <tr>\n",
       "      <th>3</th>\n",
       "      <td>104.79193</td>\n",
       "      <td>1.756797e-23</td>\n",
       "    </tr>\n",
       "  </tbody>\n",
       "</table>\n",
       "</div>"
      ],
      "text/plain": [
       "     lb_stat     lb_pvalue\n",
       "3  104.79193  1.756797e-23"
      ]
     },
     "execution_count": 17,
     "metadata": {},
     "output_type": "execute_result"
    }
   ],
   "source": [
    "sm.stats.acorr_ljungbox(result_linear_1.resid, lags=[lag], model_df = p)"
   ]
  },
  {
   "cell_type": "markdown",
   "metadata": {},
   "source": [
    "Отвергаем гипотезу о случайности остатков.\n",
    "Модель не смогла избавить нас от автокорреляции остатков."
   ]
  },
  {
   "cell_type": "markdown",
   "metadata": {},
   "source": [
    "## ТРИЛАГА"
   ]
  },
  {
   "cell_type": "code",
   "execution_count": 18,
   "metadata": {},
   "outputs": [
    {
     "name": "stdout",
     "output_type": "stream",
     "text": [
      "    d1_USA_log  d1_USA_log_l1\n",
      "0    10.762905       0.000000\n",
      "1    10.771370      10.762905\n",
      "2    10.779511      10.771370\n",
      "3    10.786573      10.779511\n",
      "4    10.792961      10.786573\n",
      "5    10.799033      10.792961\n",
      "6    10.804330      10.799033\n",
      "7    10.808792      10.804330\n",
      "8    10.812612      10.808792\n",
      "9    10.816473      10.812612\n",
      "10   10.820711      10.816473\n",
      "11   10.824481      10.820711\n",
      "12   10.827696      10.824481\n",
      "13   10.831174      10.827696\n",
      "14   10.835049      10.831174\n",
      "15   10.838487      10.835049\n",
      "16   10.841443      10.838487\n",
      "17   10.843848      10.841443\n",
      "18   10.847840      10.843848\n",
      "19   10.849366      10.847840\n",
      "20   10.851709      10.849366\n",
      "21   10.853800      10.851709\n",
      "22   10.856479      10.853800\n",
      "23   10.856828      10.856479\n",
      "24   10.852010      10.856828\n",
      "25   10.844427      10.852010\n",
      "26   10.835915      10.844427\n",
      "27   10.827179      10.835915\n",
      "28   10.818602      10.827179\n",
      "29   10.809550      10.818602\n",
      "30   10.799858      10.809550\n",
      "31   10.789738      10.799858\n",
      "32   10.780498      10.789738\n",
      "33   10.772528      10.780498\n",
      "34   10.765163      10.772528\n",
      "35   10.757959      10.765163\n",
      "36   10.751184      10.757959\n",
      "37   10.745202      10.751184\n",
      "38   10.739774      10.745202\n",
      "39   10.735326      10.739774\n",
      "40   10.731344      10.735326\n",
      "41   10.727740      10.731344\n",
      "42   10.725282      10.727740\n",
      "43   10.723017      10.725282\n",
      "44   10.713167      10.723017\n",
      "45   10.701643      10.713167\n",
      "46   10.696655      10.701643\n",
      "47   10.692608      10.696655\n",
      "48   10.690664      10.692608\n",
      "49   10.690840      10.690664\n",
      "50   10.689753      10.690840\n",
      "51   10.686147      10.689753\n",
      "52   10.681163      10.686147\n"
     ]
    }
   ],
   "source": [
    "df_d3_gdpUSA_1 = df_gdpUSA[['USA_log','USA_log_l1','USA_log_l2','USA_log_l3']]\n",
    "print(df_d1_gdpUSA)"
   ]
  },
  {
   "cell_type": "code",
   "execution_count": 19,
   "metadata": {},
   "outputs": [],
   "source": [
    "# Выделяем X (фаторы) и y (результирующую переменную)\n",
    "X_3 = df_d3_gdpUSA_1.drop('USA_log', axis = 1) # Должен быть датафреймом\n",
    "y_3 = df_d3_gdpUSA_1['USA_log'] # Должен быть серией"
   ]
  },
  {
   "cell_type": "code",
   "execution_count": 20,
   "metadata": {},
   "outputs": [],
   "source": [
    "# Добавляем константу\n",
    "X_3_c = sm.tools.tools.add_constant(X_3, prepend = True, has_constant = 'skip')"
   ]
  },
  {
   "cell_type": "code",
   "execution_count": 21,
   "metadata": {},
   "outputs": [
    {
     "name": "stdout",
     "output_type": "stream",
     "text": [
      "                            OLS Regression Results                            \n",
      "==============================================================================\n",
      "Dep. Variable:                USA_log   R-squared:                       0.008\n",
      "Model:                            OLS   Adj. R-squared:                 -0.052\n",
      "Method:                 Least Squares   F-statistic:                    0.1365\n",
      "Date:                Tue, 31 Jan 2023   Prob (F-statistic):              0.938\n",
      "Time:                        23:36:47   Log-Likelihood:                 78.453\n",
      "No. Observations:                  53   AIC:                            -148.9\n",
      "Df Residuals:                      49   BIC:                            -141.0\n",
      "Df Model:                           3                                         \n",
      "Covariance Type:            nonrobust                                         \n",
      "==============================================================================\n",
      "                 coef    std err          t      P>|t|      [0.025      0.975]\n",
      "------------------------------------------------------------------------------\n",
      "const         10.7485      0.057    187.797      0.000      10.634      10.864\n",
      "USA_log_l1     0.0022      0.008      0.290      0.773      -0.013       0.017\n",
      "USA_log_l2     0.0008      0.008      0.101      0.920      -0.014       0.016\n",
      "USA_log_l3     0.0003      0.005      0.059      0.953      -0.010       0.011\n",
      "==============================================================================\n",
      "Omnibus:                       11.665   Durbin-Watson:                   0.011\n",
      "Prob(Omnibus):                  0.003   Jarque-Bera (JB):                4.511\n",
      "Skew:                          -0.438   Prob(JB):                        0.105\n",
      "Kurtosis:                       1.871   Cond. No.                         134.\n",
      "==============================================================================\n",
      "\n",
      "Notes:\n",
      "[1] Standard Errors assume that the covariance matrix of the errors is correctly specified.\n"
     ]
    }
   ],
   "source": [
    "model_linear_3 = sm.OLS(y_3, X_3_c) # Строим модель\n",
    "result_linear_3 = model_linear_3.fit() # Обучаем на данных\n",
    "print(result_linear_3.summary()) # Выводим отчет"
   ]
  },
  {
   "cell_type": "code",
   "execution_count": 22,
   "metadata": {},
   "outputs": [
    {
     "data": {
      "text/plain": [
       "0.05727186937268939"
      ]
     },
     "execution_count": 22,
     "metadata": {},
     "output_type": "execute_result"
    }
   ],
   "source": [
    "# Residual standard error\n",
    "np.sqrt(result_linear_3.scale)"
   ]
  },
  {
   "cell_type": "code",
   "execution_count": 23,
   "metadata": {},
   "outputs": [
    {
     "data": {
      "image/png": "[encoded data removed]",
      "text/plain": [
       "<Figure size 432x288 with 1 Axes>"
      ]
     },
     "metadata": {
      "needs_background": "light"
     },
     "output_type": "display_data"
    }
   ],
   "source": [
    "sm.graphics.tsa.plot_acf(result_linear_3.resid, zero = False, alpha = 0.05, lags = 30) # Строим ACF\n",
    "plt.ylim((-0.9 ,0.9)) # Ограничиваем ось Y\n",
    "plt.show() # Выводим график\n",
    "\n",
    "# Метод resid хранит остатки модели"
   ]
  },
  {
   "cell_type": "code",
   "execution_count": 24,
   "metadata": {},
   "outputs": [],
   "source": [
    "lag = int(log(len(result_linear_3.resid))) # Число степеней свободы - логарифм по времени\n",
    "p = 3\n",
    "model_df = p"
   ]
  },
  {
   "cell_type": "code",
   "execution_count": 25,
   "metadata": {},
   "outputs": [
    {
     "data": {
      "text/html": [
       "<div>\n",
       "<style scoped>\n",
       "    .dataframe tbody tr th:only-of-type {\n",
       "        vertical-align: middle;\n",
       "    }\n",
       "\n",
       "    .dataframe tbody tr th {\n",
       "        vertical-align: top;\n",
       "    }\n",
       "\n",
       "    .dataframe thead th {\n",
       "        text-align: right;\n",
       "    }\n",
       "</style>\n",
       "<table border=\"1\" class=\"dataframe\">\n",
       "  <thead>\n",
       "    <tr style=\"text-align: right;\">\n",
       "      <th></th>\n",
       "      <th>lb_stat</th>\n",
       "      <th>lb_pvalue</th>\n",
       "    </tr>\n",
       "  </thead>\n",
       "  <tbody>\n",
       "    <tr>\n",
       "      <th>3</th>\n",
       "      <td>143.815188</td>\n",
       "      <td>NaN</td>\n",
       "    </tr>\n",
       "  </tbody>\n",
       "</table>\n",
       "</div>"
      ],
      "text/plain": [
       "      lb_stat  lb_pvalue\n",
       "3  143.815188        NaN"
      ]
     },
     "execution_count": 25,
     "metadata": {},
     "output_type": "execute_result"
    }
   ],
   "source": [
    "sm.stats.acorr_ljungbox(result_linear_3.resid, lags=[lag], model_df = p)"
   ]
  },
  {
   "cell_type": "markdown",
   "metadata": {},
   "source": [
    "## ARIMA"
   ]
  },
  {
   "cell_type": "markdown",
   "metadata": {},
   "source": [
    "# AR с помощью ARIMA"
   ]
  },
  {
   "cell_type": "code",
   "execution_count": 26,
   "metadata": {},
   "outputs": [
    {
     "name": "stdout",
     "output_type": "stream",
     "text": [
      "                               SARIMAX Results                                \n",
      "==============================================================================\n",
      "Dep. Variable:             USA_log_l1   No. Observations:                   53\n",
      "Model:                 ARIMA(1, 0, 0)   Log Likelihood                 -95.550\n",
      "Date:                Tue, 31 Jan 2023   AIC                            197.100\n",
      "Time:                        23:36:48   BIC                            203.011\n",
      "Sample:                             0   HQIC                           199.373\n",
      "                                 - 53                                         \n",
      "Covariance Type:                  opg                                         \n",
      "==============================================================================\n",
      "                 coef    std err          z      P>|z|      [0.025      0.975]\n",
      "------------------------------------------------------------------------------\n",
      "const         10.5473      6.997      1.508      0.132      -3.166      24.260\n",
      "ar.L1          0.1472      0.606      0.243      0.808      -1.041       1.335\n",
      "sigma2         2.1541      2.532      0.851      0.395      -2.808       7.116\n",
      "===================================================================================\n",
      "Ljung-Box (L1) (Q):                   1.14   Jarque-Bera (JB):              5048.19\n",
      "Prob(Q):                              0.28   Prob(JB):                         0.00\n",
      "Heteroskedasticity (H):               0.00   Skew:                            -6.81\n",
      "Prob(H) (two-sided):                  0.00   Kurtosis:                        48.83\n",
      "===================================================================================\n",
      "\n",
      "Warnings:\n",
      "[1] Covariance matrix calculated using the outer product of gradients (complex-step).\n"
     ]
    }
   ],
   "source": [
    "from statsmodels.tsa.arima.model import ARIMA\n",
    "\n",
    "arima_model = ARIMA(df_d3_gdpUSA_1['USA_log_l1'], trend = 'c', order = (1,0,0))\n",
    "arima_model = arima_model.fit()\n",
    "print(arima_model.summary())"
   ]
  },
  {
   "cell_type": "markdown",
   "metadata": {},
   "source": [
    "# MA С помощиью ARIMA"
   ]
  },
  {
   "cell_type": "code",
   "execution_count": 27,
   "metadata": {},
   "outputs": [
    {
     "name": "stderr",
     "output_type": "stream",
     "text": [
      "C:\\Users\\User\\anaconda3\\lib\\site-packages\\statsmodels\\tsa\\statespace\\sarimax.py:978: UserWarning: Non-invertible starting MA parameters found. Using zeros as starting parameters.\n",
      "  warn('Non-invertible starting MA parameters found.'\n"
     ]
    },
    {
     "name": "stdout",
     "output_type": "stream",
     "text": [
      "                               SARIMAX Results                                \n",
      "==============================================================================\n",
      "Dep. Variable:             USA_log_l1   No. Observations:                   52\n",
      "Model:                 ARIMA(0, 0, 3)   Log Likelihood                 168.182\n",
      "Date:                Tue, 31 Jan 2023   AIC                           -326.365\n",
      "Time:                        23:36:48   BIC                           -316.609\n",
      "Sample:                             0   HQIC                          -322.625\n",
      "                                 - 52                                         \n",
      "Covariance Type:                  opg                                         \n",
      "==============================================================================\n",
      "                 coef    std err          z      P>|z|      [0.025      0.975]\n",
      "------------------------------------------------------------------------------\n",
      "const         10.7816      0.009   1253.637      0.000      10.765      10.798\n",
      "ma.L1          2.4714      9.267      0.267      0.790     -15.692      20.635\n",
      "ma.L2          2.4689     14.951      0.165      0.869     -26.835      31.773\n",
      "ma.L3          0.9973      9.772      0.102      0.919     -18.156      20.151\n",
      "sigma2      7.142e-05      0.001      0.103      0.918      -0.001       0.001\n",
      "===================================================================================\n",
      "Ljung-Box (L1) (Q):                  39.30   Jarque-Bera (JB):                 3.02\n",
      "Prob(Q):                              0.00   Prob(JB):                         0.22\n",
      "Heteroskedasticity (H):               3.34   Skew:                            -0.39\n",
      "Prob(H) (two-sided):                  0.02   Kurtosis:                         2.12\n",
      "===================================================================================\n",
      "\n",
      "Warnings:\n",
      "[1] Covariance matrix calculated using the outer product of gradients (complex-step).\n"
     ]
    },
    {
     "name": "stderr",
     "output_type": "stream",
     "text": [
      "C:\\Users\\User\\anaconda3\\lib\\site-packages\\statsmodels\\base\\model.py:604: ConvergenceWarning: Maximum Likelihood optimization failed to converge. Check mle_retvals\n",
      "  warnings.warn(\"Maximum Likelihood optimization failed to \"\n"
     ]
    }
   ],
   "source": [
    "from statsmodels.tsa.arima.model import ARIMA\n",
    "\n",
    "arima_model = ARIMA(df_d3_gdpUSA_1['USA_log_l1'][1:], trend = 'c', order = (0,0,3))\n",
    "arima_model = arima_model.fit()\n",
    "print(arima_model.summary())"
   ]
  },
  {
   "cell_type": "code",
   "execution_count": 28,
   "metadata": {},
   "outputs": [
    {
     "data": {
      "text/plain": [
       "-0.011850418081199052"
      ]
     },
     "execution_count": 28,
     "metadata": {},
     "output_type": "execute_result"
    }
   ],
   "source": [
    "b_0 = 0.0024 * (1 - sum(arima_model.maparams))\n",
    "b_0"
   ]
  },
  {
   "cell_type": "code",
   "execution_count": 29,
   "metadata": {},
   "outputs": [
    {
     "data": {
      "image/png": "[encoded data removed]",
      "text/plain": [
       "<Figure size 432x288 with 1 Axes>"
      ]
     },
     "metadata": {
      "needs_background": "light"
     },
     "output_type": "display_data"
    }
   ],
   "source": [
    "sm.graphics.tsa.plot_acf(arima_model.resid, zero = False, alpha = 0.05, lags = 30) # Строим ACF\n",
    "plt.ylim((-0.5 ,0.5)) # Ограничиваем ось Y\n",
    "plt.show() # Выводим график\n"
   ]
  },
  {
   "cell_type": "code",
   "execution_count": 30,
   "metadata": {},
   "outputs": [],
   "source": [
    "# lag = int(log(len(arima_model.resid))) # Число степеней свободы - логарифм по времени\n",
    "lag = 3\n",
    "p = 0\n",
    "model_df = p"
   ]
  },
  {
   "cell_type": "code",
   "execution_count": 31,
   "metadata": {},
   "outputs": [
    {
     "data": {
      "text/html": [
       "<div>\n",
       "<style scoped>\n",
       "    .dataframe tbody tr th:only-of-type {\n",
       "        vertical-align: middle;\n",
       "    }\n",
       "\n",
       "    .dataframe tbody tr th {\n",
       "        vertical-align: top;\n",
       "    }\n",
       "\n",
       "    .dataframe thead th {\n",
       "        text-align: right;\n",
       "    }\n",
       "</style>\n",
       "<table border=\"1\" class=\"dataframe\">\n",
       "  <thead>\n",
       "    <tr style=\"text-align: right;\">\n",
       "      <th></th>\n",
       "      <th>lb_stat</th>\n",
       "      <th>lb_pvalue</th>\n",
       "    </tr>\n",
       "  </thead>\n",
       "  <tbody>\n",
       "    <tr>\n",
       "      <th>3</th>\n",
       "      <td>101.282805</td>\n",
       "      <td>8.234789e-22</td>\n",
       "    </tr>\n",
       "  </tbody>\n",
       "</table>\n",
       "</div>"
      ],
      "text/plain": [
       "      lb_stat     lb_pvalue\n",
       "3  101.282805  8.234789e-22"
      ]
     },
     "execution_count": 31,
     "metadata": {},
     "output_type": "execute_result"
    }
   ],
   "source": [
    "sm.stats.acorr_ljungbox(arima_model.resid, lags=[lag], model_df = p)"
   ]
  },
  {
   "cell_type": "code",
   "execution_count": 32,
   "metadata": {},
   "outputs": [
    {
     "name": "stdout",
     "output_type": "stream",
     "text": [
      "                               SARIMAX Results                                \n",
      "==============================================================================\n",
      "Dep. Variable:             USA_log_l1   No. Observations:                   52\n",
      "Model:                 ARIMA(0, 0, 1)   Log Likelihood                 111.069\n",
      "Date:                Tue, 31 Jan 2023   AIC                           -216.139\n",
      "Time:                        23:36:49   BIC                           -210.285\n",
      "Sample:                             0   HQIC                          -213.895\n",
      "                                 - 52                                         \n",
      "Covariance Type:                  opg                                         \n",
      "==============================================================================\n",
      "                 coef    std err          z      P>|z|      [0.025      0.975]\n",
      "------------------------------------------------------------------------------\n",
      "const         10.7836      0.009   1261.448      0.000      10.767      10.800\n",
      "ma.L1          0.9999    134.593      0.007      0.994    -262.797     264.797\n",
      "sigma2         0.0008      0.102      0.007      0.994      -0.199       0.200\n",
      "===================================================================================\n",
      "Ljung-Box (L1) (Q):                  50.30   Jarque-Bera (JB):                 4.30\n",
      "Prob(Q):                              0.00   Prob(JB):                         0.12\n",
      "Heteroskedasticity (H):               3.97   Skew:                            -0.39\n",
      "Prob(H) (two-sided):                  0.01   Kurtosis:                         1.83\n",
      "===================================================================================\n",
      "\n",
      "Warnings:\n",
      "[1] Covariance matrix calculated using the outer product of gradients (complex-step).\n"
     ]
    }
   ],
   "source": [
    "    arima_model = ARIMA(df_d3_gdpUSA_1['USA_log_l1'][1:], trend = 'c', order = (0,0,1))\n",
    "arima_model = arima_model.fit()\n",
    "print(arima_model.summary())"
   ]
  },
  {
   "cell_type": "code",
   "execution_count": 33,
   "metadata": {},
   "outputs": [
    {
     "data": {
      "text/plain": [
       "2.3530863336933548e-07"
      ]
     },
     "execution_count": 33,
     "metadata": {},
     "output_type": "execute_result"
    }
   ],
   "source": [
    "b_0 = 0.0024 * (1 - sum(arima_model.maparams))\n",
    "b_0"
   ]
  },
  {
   "cell_type": "code",
   "execution_count": 34,
   "metadata": {},
   "outputs": [
    {
     "data": {
      "image/png": "[encoded data removed]",
      "text/plain": [
       "<Figure size 432x288 with 1 Axes>"
      ]
     },
     "metadata": {
      "needs_background": "light"
     },
     "output_type": "display_data"
    }
   ],
   "source": [
    "sm.graphics.tsa.plot_acf(arima_model.resid, zero = False, alpha = 0.05, lags = 30) # Строим ACF\n",
    "plt.ylim((-0.5 ,0.5)) # Ограничиваем ось Y\n",
    "plt.show() # Выводим график\n"
   ]
  },
  {
   "cell_type": "code",
   "execution_count": 35,
   "metadata": {},
   "outputs": [],
   "source": [
    "lag = 1\n",
    "p = 0\n",
    "model_df = p"
   ]
  },
  {
   "cell_type": "code",
   "execution_count": 36,
   "metadata": {},
   "outputs": [
    {
     "data": {
      "text/html": [
       "<div>\n",
       "<style scoped>\n",
       "    .dataframe tbody tr th:only-of-type {\n",
       "        vertical-align: middle;\n",
       "    }\n",
       "\n",
       "    .dataframe tbody tr th {\n",
       "        vertical-align: top;\n",
       "    }\n",
       "\n",
       "    .dataframe thead th {\n",
       "        text-align: right;\n",
       "    }\n",
       "</style>\n",
       "<table border=\"1\" class=\"dataframe\">\n",
       "  <thead>\n",
       "    <tr style=\"text-align: right;\">\n",
       "      <th></th>\n",
       "      <th>lb_stat</th>\n",
       "      <th>lb_pvalue</th>\n",
       "    </tr>\n",
       "  </thead>\n",
       "  <tbody>\n",
       "    <tr>\n",
       "      <th>1</th>\n",
       "      <td>49.850138</td>\n",
       "      <td>1.659487e-12</td>\n",
       "    </tr>\n",
       "  </tbody>\n",
       "</table>\n",
       "</div>"
      ],
      "text/plain": [
       "     lb_stat     lb_pvalue\n",
       "1  49.850138  1.659487e-12"
      ]
     },
     "execution_count": 36,
     "metadata": {},
     "output_type": "execute_result"
    }
   ],
   "source": [
    "sm.stats.acorr_ljungbox(arima_model.resid, lags=[lag], model_df = p)"
   ]
  },
  {
   "cell_type": "code",
   "execution_count": 37,
   "metadata": {},
   "outputs": [
    {
     "data": {
      "text/plain": [
       "(-0.9282470223715209,\n",
       " 0.7785280185620433,\n",
       " 1,\n",
       " 51,\n",
       " {'1%': -3.5656240522121956,\n",
       "  '5%': -2.920142229157715,\n",
       "  '10%': -2.598014675124952},\n",
       " -493.1259340733068)"
      ]
     },
     "execution_count": 37,
     "metadata": {},
     "output_type": "execute_result"
    }
   ],
   "source": [
    "from statsmodels.tsa.stattools import adfuller\n",
    "\n",
    "adfuller(df_gdpUSA['USA_log'], regression = 'c', maxlag = 1)\n"
   ]
  },
  {
   "cell_type": "code",
   "execution_count": 38,
   "metadata": {},
   "outputs": [
    {
     "name": "stdout",
     "output_type": "stream",
     "text": [
      "                               SARIMAX Results                                \n",
      "==============================================================================\n",
      "Dep. Variable:             USA_log_l1   No. Observations:                   52\n",
      "Model:                 ARIMA(0, 0, 2)   Log Likelihood                 142.034\n",
      "Date:                Tue, 31 Jan 2023   AIC                           -276.068\n",
      "Time:                        23:36:49   BIC                           -268.263\n",
      "Sample:                             0   HQIC                          -273.076\n",
      "                                 - 52                                         \n",
      "Covariance Type:                  opg                                         \n",
      "==============================================================================\n",
      "                 coef    std err          z      P>|z|      [0.025      0.975]\n",
      "------------------------------------------------------------------------------\n",
      "const         10.7823      0.008   1269.104      0.000      10.766      10.799\n",
      "ma.L1          1.9027      1.242      1.532      0.126      -0.531       4.337\n",
      "ma.L2          0.9895      1.296      0.764      0.445      -1.550       3.529\n",
      "sigma2         0.0002      0.000      0.728      0.466      -0.000       0.001\n",
      "===================================================================================\n",
      "Ljung-Box (L1) (Q):                  47.02   Jarque-Bera (JB):                 3.94\n",
      "Prob(Q):                              0.00   Prob(JB):                         0.14\n",
      "Heteroskedasticity (H):               3.48   Skew:                            -0.35\n",
      "Prob(H) (two-sided):                  0.01   Kurtosis:                         1.85\n",
      "===================================================================================\n",
      "\n",
      "Warnings:\n",
      "[1] Covariance matrix calculated using the outer product of gradients (complex-step).\n"
     ]
    }
   ],
   "source": [
    "arima_model = ARIMA(df_d3_gdpUSA_1['USA_log_l1'][1:], trend = 'c', order = (0,0,2))\n",
    "arima_model = arima_model.fit()\n",
    "print(arima_model.summary())"
   ]
  },
  {
   "cell_type": "code",
   "execution_count": 39,
   "metadata": {},
   "outputs": [
    {
     "data": {
      "text/plain": [
       "-0.004541152394586282"
      ]
     },
     "execution_count": 39,
     "metadata": {},
     "output_type": "execute_result"
    }
   ],
   "source": [
    "b_0 = 0.0024 * (1 - sum(arima_model.maparams))\n",
    "b_0"
   ]
  },
  {
   "cell_type": "code",
   "execution_count": 40,
   "metadata": {},
   "outputs": [],
   "source": [
    "lag = 1\n",
    "p = 0\n",
    "model_df = p"
   ]
  },
  {
   "cell_type": "code",
   "execution_count": 41,
   "metadata": {},
   "outputs": [
    {
     "data": {
      "text/html": [
       "<div>\n",
       "<style scoped>\n",
       "    .dataframe tbody tr th:only-of-type {\n",
       "        vertical-align: middle;\n",
       "    }\n",
       "\n",
       "    .dataframe tbody tr th {\n",
       "        vertical-align: top;\n",
       "    }\n",
       "\n",
       "    .dataframe thead th {\n",
       "        text-align: right;\n",
       "    }\n",
       "</style>\n",
       "<table border=\"1\" class=\"dataframe\">\n",
       "  <thead>\n",
       "    <tr style=\"text-align: right;\">\n",
       "      <th></th>\n",
       "      <th>lb_stat</th>\n",
       "      <th>lb_pvalue</th>\n",
       "    </tr>\n",
       "  </thead>\n",
       "  <tbody>\n",
       "    <tr>\n",
       "      <th>1</th>\n",
       "      <td>44.30948</td>\n",
       "      <td>2.803553e-11</td>\n",
       "    </tr>\n",
       "  </tbody>\n",
       "</table>\n",
       "</div>"
      ],
      "text/plain": [
       "    lb_stat     lb_pvalue\n",
       "1  44.30948  2.803553e-11"
      ]
     },
     "execution_count": 41,
     "metadata": {},
     "output_type": "execute_result"
    }
   ],
   "source": [
    "sm.stats.acorr_ljungbox(arima_model.resid, lags=[lag], model_df = p)"
   ]
  },
  {
   "cell_type": "code",
   "execution_count": null,
   "metadata": {},
   "outputs": [],
   "source": []
  },
  {
   "cell_type": "code",
   "execution_count": 42,
   "metadata": {},
   "outputs": [
    {
     "data": {
      "text/html": [
       "<table class=\"simpletable\">\n",
       "<caption>SARIMAX Results</caption>\n",
       "<tr>\n",
       "  <th>Dep. Variable:</th>           <td>y</td>        <th>  No. Observations:  </th>    <td>53</td>   \n",
       "</tr>\n",
       "<tr>\n",
       "  <th>Model:</th>           <td>SARIMAX(0, 2, 1)</td> <th>  Log Likelihood     </th> <td>-299.601</td>\n",
       "</tr>\n",
       "<tr>\n",
       "  <th>Date:</th>            <td>Tue, 31 Jan 2023</td> <th>  AIC                </th>  <td>603.202</td>\n",
       "</tr>\n",
       "<tr>\n",
       "  <th>Time:</th>                <td>23:36:51</td>     <th>  BIC                </th>  <td>607.066</td>\n",
       "</tr>\n",
       "<tr>\n",
       "  <th>Sample:</th>                  <td>0</td>        <th>  HQIC               </th>  <td>604.678</td>\n",
       "</tr>\n",
       "<tr>\n",
       "  <th></th>                       <td> - 53</td>      <th>                     </th>     <td> </td>   \n",
       "</tr>\n",
       "<tr>\n",
       "  <th>Covariance Type:</th>        <td>opg</td>       <th>                     </th>     <td> </td>   \n",
       "</tr>\n",
       "</table>\n",
       "<table class=\"simpletable\">\n",
       "<tr>\n",
       "     <td></td>       <th>coef</th>     <th>std err</th>      <th>z</th>      <th>P>|z|</th>  <th>[0.025</th>    <th>0.975]</th>  \n",
       "</tr>\n",
       "<tr>\n",
       "  <th>ma.L1</th>  <td>    0.2952</td> <td>    0.121</td> <td>    2.442</td> <td> 0.015</td> <td>    0.058</td> <td>    0.532</td>\n",
       "</tr>\n",
       "<tr>\n",
       "  <th>sigma2</th> <td> 7045.2983</td> <td>  786.371</td> <td>    8.959</td> <td> 0.000</td> <td> 5504.040</td> <td> 8586.556</td>\n",
       "</tr>\n",
       "</table>\n",
       "<table class=\"simpletable\">\n",
       "<tr>\n",
       "  <th>Ljung-Box (L1) (Q):</th>     <td>0.01</td> <th>  Jarque-Bera (JB):  </th> <td>67.77</td>\n",
       "</tr>\n",
       "<tr>\n",
       "  <th>Prob(Q):</th>                <td>0.92</td> <th>  Prob(JB):          </th> <td>0.00</td> \n",
       "</tr>\n",
       "<tr>\n",
       "  <th>Heteroskedasticity (H):</th> <td>9.22</td> <th>  Skew:              </th> <td>-0.73</td>\n",
       "</tr>\n",
       "<tr>\n",
       "  <th>Prob(H) (two-sided):</th>    <td>0.00</td> <th>  Kurtosis:          </th> <td>8.46</td> \n",
       "</tr>\n",
       "</table><br/><br/>Warnings:<br/>[1] Covariance matrix calculated using the outer product of gradients (complex-step)."
      ],
      "text/plain": [
       "<class 'statsmodels.iolib.summary.Summary'>\n",
       "\"\"\"\n",
       "                               SARIMAX Results                                \n",
       "==============================================================================\n",
       "Dep. Variable:                      y   No. Observations:                   53\n",
       "Model:               SARIMAX(0, 2, 1)   Log Likelihood                -299.601\n",
       "Date:                Tue, 31 Jan 2023   AIC                            603.202\n",
       "Time:                        23:36:51   BIC                            607.066\n",
       "Sample:                             0   HQIC                           604.678\n",
       "                                 - 53                                         \n",
       "Covariance Type:                  opg                                         \n",
       "==============================================================================\n",
       "                 coef    std err          z      P>|z|      [0.025      0.975]\n",
       "------------------------------------------------------------------------------\n",
       "ma.L1          0.2952      0.121      2.442      0.015       0.058       0.532\n",
       "sigma2      7045.2983    786.371      8.959      0.000    5504.040    8586.556\n",
       "===================================================================================\n",
       "Ljung-Box (L1) (Q):                   0.01   Jarque-Bera (JB):                67.77\n",
       "Prob(Q):                              0.92   Prob(JB):                         0.00\n",
       "Heteroskedasticity (H):               9.22   Skew:                            -0.73\n",
       "Prob(H) (two-sided):                  0.00   Kurtosis:                         8.46\n",
       "===================================================================================\n",
       "\n",
       "Warnings:\n",
       "[1] Covariance matrix calculated using the outer product of gradients (complex-step).\n",
       "\"\"\""
      ]
     },
     "execution_count": 42,
     "metadata": {},
     "output_type": "execute_result"
    }
   ],
   "source": [
    "import pmdarima as pm\n",
    "\n",
    "# Auto_arima (инициализация модели)       \n",
    "model_auto_arima = pm.auto_arima(df_gdpUSA['USA'])\n",
    "model_auto_arima.fit(df_gdpUSA['USA']).summary()"
   ]
  },
  {
   "cell_type": "code",
   "execution_count": 43,
   "metadata": {},
   "outputs": [],
   "source": [
    "# На какой период хотим сроить прогноз?\n",
    "horizon = 10"
   ]
  },
  {
   "cell_type": "code",
   "execution_count": 44,
   "metadata": {},
   "outputs": [],
   "source": [
    "preds, conf_int = model_auto_arima.predict(horizon, return_conf_int = True)"
   ]
  },
  {
   "cell_type": "code",
   "execution_count": 45,
   "metadata": {},
   "outputs": [],
   "source": [
    "conf_int = pd.DataFrame(conf_int)\n",
    "conf_int.columns = ['yhat_dn', 'yhat_up']\n",
    "conf_int.index = list(range(len(df_gdpUSA['USA']), len(df_gdpUSA['USA']) + horizon))"
   ]
  },
  {
   "cell_type": "code",
   "execution_count": 46,
   "metadata": {},
   "outputs": [],
   "source": [
    "yhat_dn = conf_int['yhat_dn']\n",
    "yhat_up = conf_int['yhat_up']"
   ]
  },
  {
   "cell_type": "code",
   "execution_count": 47,
   "metadata": {},
   "outputs": [
    {
     "data": {
      "image/png": "[encoded data removed]",
      "text/plain": [
       "<Figure size 1440x504 with 1 Axes>"
      ]
     },
     "metadata": {
      "needs_background": "light"
     },
     "output_type": "display_data"
    }
   ],
   "source": [
    "# Оценим качество прогноза для исходного ряда\n",
    "plt.figure(figsize = (20, 7))\n",
    "\n",
    "# График ряда\n",
    "plt.plot(df_gdpUSA['USA'].reset_index(drop = True), label = 'Train')\n",
    "\n",
    "# График прогноза\n",
    "plt.plot(preds, label = 'yhat')\n",
    "\n",
    "plt.plot(yhat_up, label = 'yhat_up')\n",
    "\n",
    "plt.plot(yhat_dn, label = 'yhat_dn')\n",
    "\n",
    "plt.show()"
   ]
  },
  {
   "cell_type": "code",
   "execution_count": 48,
   "metadata": {},
   "outputs": [
    {
     "name": "stdout",
     "output_type": "stream",
     "text": [
      "const    -0.048213\n",
      "ar.L1    -0.342794\n",
      "ma.L1     0.724133\n",
      "sigma2    0.953102\n",
      "dtype: float64\n"
     ]
    },
    {
     "data": {
      "text/plain": [
       "<AxesSubplot:>"
      ]
     },
     "execution_count": 48,
     "metadata": {},
     "output_type": "execute_result"
    },
    {
     "data": {
      "image/png": "[encoded data removed]",
      "text/plain": [
       "<Figure size 432x288 with 1 Axes>"
      ]
     },
     "metadata": {
      "needs_background": "light"
     },
     "output_type": "display_data"
    }
   ],
   "source": [
    "arparams = np.array([0.1])\n",
    "maparams = np.array([0.3])\n",
    "ar = np.r_[1, -arparams] # add zero-lag and negate\n",
    "ma = np.r_[1, maparams] # add zero-lag\n",
    "y = sm.tsa.arma_generate_sample(ar, ma, 100)\n",
    "model = ARIMA(pd.Series(y), trend = None, order = (1,0,1)).fit()\n",
    "print(model.params)\n",
    "model.predict().plot()"
   ]
  },
  {
   "cell_type": "code",
   "execution_count": 49,
   "metadata": {},
   "outputs": [
    {
     "data": {
      "text/plain": [
       "(-0.9282470223715209,\n",
       " 0.7785280185620433,\n",
       " 1,\n",
       " 51,\n",
       " {'1%': -3.5656240522121956,\n",
       "  '5%': -2.920142229157715,\n",
       "  '10%': -2.598014675124952},\n",
       " -493.1259340733068)"
      ]
     },
     "execution_count": 49,
     "metadata": {},
     "output_type": "execute_result"
    }
   ],
   "source": [
    "from statsmodels.tsa.stattools import adfuller\n",
    "\n",
    "adfuller(df_gdpUSA['USA_log'], regression = 'c', maxlag = 1)"
   ]
  },
  {
   "cell_type": "code",
   "execution_count": 50,
   "metadata": {},
   "outputs": [
    {
     "data": {
      "text/html": [
       "<div>\n",
       "<style scoped>\n",
       "    .dataframe tbody tr th:only-of-type {\n",
       "        vertical-align: middle;\n",
       "    }\n",
       "\n",
       "    .dataframe tbody tr th {\n",
       "        vertical-align: top;\n",
       "    }\n",
       "\n",
       "    .dataframe thead th {\n",
       "        text-align: right;\n",
       "    }\n",
       "</style>\n",
       "<table border=\"1\" class=\"dataframe\">\n",
       "  <thead>\n",
       "    <tr style=\"text-align: right;\">\n",
       "      <th></th>\n",
       "      <th>lb_stat</th>\n",
       "      <th>lb_pvalue</th>\n",
       "    </tr>\n",
       "  </thead>\n",
       "  <tbody>\n",
       "    <tr>\n",
       "      <th>1</th>\n",
       "      <td>44.309480</td>\n",
       "      <td>2.803553e-11</td>\n",
       "    </tr>\n",
       "    <tr>\n",
       "      <th>2</th>\n",
       "      <td>88.988742</td>\n",
       "      <td>4.746135e-20</td>\n",
       "    </tr>\n",
       "    <tr>\n",
       "      <th>3</th>\n",
       "      <td>126.677121</td>\n",
       "      <td>2.812487e-27</td>\n",
       "    </tr>\n",
       "    <tr>\n",
       "      <th>4</th>\n",
       "      <td>162.175573</td>\n",
       "      <td>4.992295e-34</td>\n",
       "    </tr>\n",
       "    <tr>\n",
       "      <th>5</th>\n",
       "      <td>191.544611</td>\n",
       "      <td>1.826518e-39</td>\n",
       "    </tr>\n",
       "    <tr>\n",
       "      <th>6</th>\n",
       "      <td>216.725207</td>\n",
       "      <td>5.193538e-44</td>\n",
       "    </tr>\n",
       "    <tr>\n",
       "      <th>7</th>\n",
       "      <td>237.163270</td>\n",
       "      <td>1.490364e-47</td>\n",
       "    </tr>\n",
       "    <tr>\n",
       "      <th>8</th>\n",
       "      <td>252.765553</td>\n",
       "      <td>4.466005e-50</td>\n",
       "    </tr>\n",
       "    <tr>\n",
       "      <th>9</th>\n",
       "      <td>264.879402</td>\n",
       "      <td>7.163572e-52</td>\n",
       "    </tr>\n",
       "    <tr>\n",
       "      <th>10</th>\n",
       "      <td>273.352696</td>\n",
       "      <td>6.570238e-53</td>\n",
       "    </tr>\n",
       "  </tbody>\n",
       "</table>\n",
       "</div>"
      ],
      "text/plain": [
       "       lb_stat     lb_pvalue\n",
       "1    44.309480  2.803553e-11\n",
       "2    88.988742  4.746135e-20\n",
       "3   126.677121  2.812487e-27\n",
       "4   162.175573  4.992295e-34\n",
       "5   191.544611  1.826518e-39\n",
       "6   216.725207  5.193538e-44\n",
       "7   237.163270  1.490364e-47\n",
       "8   252.765553  4.466005e-50\n",
       "9   264.879402  7.163572e-52\n",
       "10  273.352696  6.570238e-53"
      ]
     },
     "execution_count": 50,
     "metadata": {},
     "output_type": "execute_result"
    }
   ],
   "source": [
    "sm.stats.acorr_ljungbox(arima_model.resid)"
   ]
  },
  {
   "cell_type": "code",
   "execution_count": null,
   "metadata": {},
   "outputs": [],
   "source": []
  }
 ],
 "metadata": {
  "kernelspec": {
   "display_name": "Python 3",
   "language": "python",
   "name": "python3"
  },
  "language_info": {
   "codemirror_mode": {
    "name": "ipython",
    "version": 3
   },
   "file_extension": ".py",
   "mimetype": "text/x-python",
   "name": "python",
   "nbconvert_exporter": "python",
   "pygments_lexer": "ipython3",
   "version": "3.8.5"
  }
 },
 "nbformat": 4,
 "nbformat_minor": 1
}
